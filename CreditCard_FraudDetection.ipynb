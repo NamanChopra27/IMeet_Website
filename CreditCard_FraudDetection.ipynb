{
  "nbformat": 4,
  "nbformat_minor": 0,
  "metadata": {
    "colab": {
      "provenance": [],
      "mount_file_id": "1V2G0sIKA_ovpK891qPAnXELcmkY7Md8p",
      "authorship_tag": "ABX9TyOJBsBhBXKvb6GBBqzNefDe",
      "include_colab_link": true
    },
    "kernelspec": {
      "name": "python3",
      "display_name": "Python 3"
    },
    "language_info": {
      "name": "python"
    }
  },
  "cells": [
    {
      "cell_type": "markdown",
      "metadata": {
        "id": "view-in-github",
        "colab_type": "text"
      },
      "source": [
        "<a href=\"https://colab.research.google.com/github/NamanChopra27/IMeet_Website/blob/master/CreditCard_FraudDetection.ipynb\" target=\"_parent\"><img src=\"https://colab.research.google.com/assets/colab-badge.svg\" alt=\"Open In Colab\"/></a>"
      ]
    },
    {
      "cell_type": "code",
      "execution_count": 1,
      "metadata": {
        "id": "ioZFXDPa784M"
      },
      "outputs": [],
      "source": [
        "import pandas as pd\n",
        "from sklearn.model_selection import train_test_split\n",
        "from sklearn.preprocessing import StandardScaler\n",
        "from sklearn.linear_model import LogisticRegression\n",
        "from sklearn.metrics import classification_report\n",
        "from imblearn.over_sampling import SMOTE"
      ]
    },
    {
      "cell_type": "code",
      "source": [
        "data = pd.read_csv('/content/drive/MyDrive/creditcard.csv')"
      ],
      "metadata": {
        "id": "_aJNgf3B98Vh"
      },
      "execution_count": 2,
      "outputs": []
    },
    {
      "cell_type": "code",
      "source": [
        "# Step 1: Data Preprocessing\n",
        "# Assuming you have features labeled as 'Time', 'V1' through 'V28', 'Amount' and the target variable 'Class'\n",
        "X = data.drop('Class', axis=1)\n",
        "y = data['Class']\n",
        "\n",
        "# Step 2: Data Normalization\n",
        "scaler = StandardScaler()\n",
        "X['Amount'] = scaler.fit_transform(X['Amount'].values.reshape(-1, 1))\n",
        "\n",
        "# Step 3: Handle Class Imbalance\n",
        "smote = SMOTE(sampling_strategy='auto', random_state=42)\n",
        "X_resampled, y_resampled = smote.fit_resample(X, y)\n"
      ],
      "metadata": {
        "id": "Fbh9FxFk-EL_"
      },
      "execution_count": 3,
      "outputs": []
    },
    {
      "cell_type": "code",
      "source": [
        "# Step 4: Split the dataset into training and testing sets\n",
        "X_train, X_test, y_train, y_test = train_test_split(X_resampled, y_resampled, test_size=0.2, random_state=42)\n",
        "\n",
        "# Step 5: Train a Logistic Regression model\n",
        "model = LogisticRegression()\n",
        "model.fit(X_train, y_train)\n",
        "\n",
        "# Step 6: Evaluate the Model\n",
        "y_pred = model.predict(X_test)\n",
        "report = classification_report(y_test, y_pred)\n",
        "print(report)"
      ],
      "metadata": {
        "colab": {
          "base_uri": "https://localhost:8080/"
        },
        "id": "8oELInjD-LnG",
        "outputId": "180535ba-1806-4b2b-8d81-81891df03150"
      },
      "execution_count": 4,
      "outputs": [
        {
          "output_type": "stream",
          "name": "stderr",
          "text": [
            "/usr/local/lib/python3.10/dist-packages/sklearn/linear_model/_logistic.py:458: ConvergenceWarning: lbfgs failed to converge (status=1):\n",
            "STOP: TOTAL NO. of ITERATIONS REACHED LIMIT.\n",
            "\n",
            "Increase the number of iterations (max_iter) or scale the data as shown in:\n",
            "    https://scikit-learn.org/stable/modules/preprocessing.html\n",
            "Please also refer to the documentation for alternative solver options:\n",
            "    https://scikit-learn.org/stable/modules/linear_model.html#logistic-regression\n",
            "  n_iter_i = _check_optimize_result(\n"
          ]
        },
        {
          "output_type": "stream",
          "name": "stdout",
          "text": [
            "              precision    recall  f1-score   support\n",
            "\n",
            "           0       0.97      0.98      0.98     56750\n",
            "           1       0.98      0.97      0.98     56976\n",
            "\n",
            "    accuracy                           0.98    113726\n",
            "   macro avg       0.98      0.98      0.98    113726\n",
            "weighted avg       0.98      0.98      0.98    113726\n",
            "\n"
          ]
        }
      ]
    },
    {
      "cell_type": "code",
      "source": [
        "# Create a dictionary with the example transaction data\n",
        "example_transaction = {\n",
        "    'Time': 120,\n",
        "    'V1': -1.5,\n",
        "    'V2': 2.5,\n",
        "    'V3': -2.0,\n",
        "    'V4': 1.5,\n",
        "    'V5': 1.0,\n",
        "    'V6': 0.5,\n",
        "    'V7': -0.5,\n",
        "    'V8': 0.5,\n",
        "    'V9': -0.5,\n",
        "    'V10': -1.5,\n",
        "    'V11': -1.0,\n",
        "    'V12': 0.5,\n",
        "    'V13': -1.0,\n",
        "    'V14': -2.0,\n",
        "    'V15': 1.0,\n",
        "    'V16': -0.5,\n",
        "    'V17': 0.5,\n",
        "    'V18': -0.5,\n",
        "    'V19': 0.5,\n",
        "    'V20': -0.5,\n",
        "    'V21': 0.5,\n",
        "    'V22': -0.5,\n",
        "    'V23': 0.5,\n",
        "    'V24': -0.5,\n",
        "    'V25': 0.5,\n",
        "    'V26': -0.5,\n",
        "    'V27': 0.5,\n",
        "    'V28': -0.5,\n",
        "    'Amount': 100.0\n",
        "}\n",
        "\n",
        "# Convert the dictionary to a DataFrame\n",
        "example_df = pd.DataFrame([example_transaction])\n",
        "\n",
        "# Predict the class (fraudulent or non-fraudulent)\n",
        "predicted_class = model.predict(example_df)\n",
        "\n",
        "# Print the prediction\n",
        "if predicted_class[0] == 1:\n",
        "    print(\"The model predicts that the example transaction is fraudulent (Class 1).\")\n",
        "else:\n",
        "    print(\"The model predicts that the example transaction is non-fraudulent (Class 0).\")\n"
      ],
      "metadata": {
        "id": "W8o2EnZv_cbR",
        "outputId": "3e532570-13d2-424d-e8ed-a39f2225e007",
        "colab": {
          "base_uri": "https://localhost:8080/"
        }
      },
      "execution_count": 5,
      "outputs": [
        {
          "output_type": "stream",
          "name": "stdout",
          "text": [
            "The model predicts that the example transaction is fraudulent (Class 1).\n"
          ]
        }
      ]
    }
  ]
}